{
 "cells": [
  {
   "cell_type": "markdown",
   "id": "b187f5fa",
   "metadata": {},
   "source": [
    "## EDA to analyse the patterns present in the data. This will ensure that the applicants capable \n",
    "#of repaying the loan are not rejected.type of risk\n",
    "\n",
    "    ##If the applicant is likely to repay the loan, then not approving the loan results in a loss \n",
    "    #of business to the company\n",
    "\n",
    "    ##If the applicant is not likely to repay the loan, i.e. he/she is likely to default,\n",
    "    #then approving the loan may lead to a financial loss for the company.\n",
    "\n",
    "##Find out variables which are strong indicator of Defaulter.In other words, \n",
    "#the company wants to understand the driving factors (or driver variables) behind loan default,\n",
    "#i.e. the variables which are strong indicators of default. The company can utilise this \n",
    "#knowledge for its portfolio and risk assessment.\n",
    "\n",
    "##data imbalance in the data\n",
    "\n",
    "Given :--> two Data Set:\n",
    "###Application data Contains all the information of the client at the time of application. \n",
    "#The data is about whether a client has payment difficulties.Target column (1)\n",
    "\n",
    "###Previous_Apllication_data contains information about the client’s previous loan data. (NameContract Status) #It contains the data on whether the previous application\n",
    "#had been Approved, Cancelled, Refused or Unused offer\n"
   ]
  },
  {
   "cell_type": "code",
   "execution_count": 1,
   "id": "bd95fd2f",
   "metadata": {},
   "outputs": [],
   "source": [
    "#import the warnings.\n",
    "import warnings\n",
    "warnings.filterwarnings(\"ignore\")"
   ]
  },
  {
   "cell_type": "code",
   "execution_count": 2,
   "id": "806ff902",
   "metadata": {},
   "outputs": [],
   "source": [
    "#import IMP directory\n",
    "import numpy as np\n",
    "import pandas as pd\n",
    "import matplotlib.pyplot as plt\n",
    "import seaborn as sns\n",
    "%matplotlib inline\n",
    "###to display all the columns and rows####\n",
    "pd.set_option(\"display.max_rows\",300)\n",
    "pd.set_option(\"display.max_columns\",150)"
   ]
  },
  {
   "cell_type": "code",
   "execution_count": 3,
   "id": "6e66a250",
   "metadata": {},
   "outputs": [
    {
     "ename": "FileNotFoundError",
     "evalue": "[Errno 2] No such file or directory: 'application_data.csv'",
     "output_type": "error",
     "traceback": [
      "\u001b[1;31m---------------------------------------------------------------------------\u001b[0m",
      "\u001b[1;31mFileNotFoundError\u001b[0m                         Traceback (most recent call last)",
      "Input \u001b[1;32mIn [3]\u001b[0m, in \u001b[0;36m<cell line: 2>\u001b[1;34m()\u001b[0m\n\u001b[0;32m      1\u001b[0m pd\u001b[38;5;241m.\u001b[39mset_option(\u001b[38;5;124m\"\u001b[39m\u001b[38;5;124mmax_info_columns\u001b[39m\u001b[38;5;124m\"\u001b[39m,\u001b[38;5;241m300\u001b[39m)\n\u001b[1;32m----> 2\u001b[0m Apl_data\u001b[38;5;241m=\u001b[39m\u001b[43mpd\u001b[49m\u001b[38;5;241;43m.\u001b[39;49m\u001b[43mread_csv\u001b[49m\u001b[43m(\u001b[49m\u001b[38;5;124;43m'\u001b[39;49m\u001b[38;5;124;43mapplication_data.csv\u001b[39;49m\u001b[38;5;124;43m'\u001b[39;49m\u001b[43m)\u001b[49m\n\u001b[0;32m      3\u001b[0m \u001b[38;5;66;03m# taking insight\u001b[39;00m\n\u001b[0;32m      4\u001b[0m Apl_data\u001b[38;5;241m.\u001b[39mhead()\n",
      "File \u001b[1;32m~\\anaconda3\\lib\\site-packages\\pandas\\util\\_decorators.py:311\u001b[0m, in \u001b[0;36mdeprecate_nonkeyword_arguments.<locals>.decorate.<locals>.wrapper\u001b[1;34m(*args, **kwargs)\u001b[0m\n\u001b[0;32m    305\u001b[0m \u001b[38;5;28;01mif\u001b[39;00m \u001b[38;5;28mlen\u001b[39m(args) \u001b[38;5;241m>\u001b[39m num_allow_args:\n\u001b[0;32m    306\u001b[0m     warnings\u001b[38;5;241m.\u001b[39mwarn(\n\u001b[0;32m    307\u001b[0m         msg\u001b[38;5;241m.\u001b[39mformat(arguments\u001b[38;5;241m=\u001b[39marguments),\n\u001b[0;32m    308\u001b[0m         \u001b[38;5;167;01mFutureWarning\u001b[39;00m,\n\u001b[0;32m    309\u001b[0m         stacklevel\u001b[38;5;241m=\u001b[39mstacklevel,\n\u001b[0;32m    310\u001b[0m     )\n\u001b[1;32m--> 311\u001b[0m \u001b[38;5;28;01mreturn\u001b[39;00m func(\u001b[38;5;241m*\u001b[39margs, \u001b[38;5;241m*\u001b[39m\u001b[38;5;241m*\u001b[39mkwargs)\n",
      "File \u001b[1;32m~\\anaconda3\\lib\\site-packages\\pandas\\io\\parsers\\readers.py:680\u001b[0m, in \u001b[0;36mread_csv\u001b[1;34m(filepath_or_buffer, sep, delimiter, header, names, index_col, usecols, squeeze, prefix, mangle_dupe_cols, dtype, engine, converters, true_values, false_values, skipinitialspace, skiprows, skipfooter, nrows, na_values, keep_default_na, na_filter, verbose, skip_blank_lines, parse_dates, infer_datetime_format, keep_date_col, date_parser, dayfirst, cache_dates, iterator, chunksize, compression, thousands, decimal, lineterminator, quotechar, quoting, doublequote, escapechar, comment, encoding, encoding_errors, dialect, error_bad_lines, warn_bad_lines, on_bad_lines, delim_whitespace, low_memory, memory_map, float_precision, storage_options)\u001b[0m\n\u001b[0;32m    665\u001b[0m kwds_defaults \u001b[38;5;241m=\u001b[39m _refine_defaults_read(\n\u001b[0;32m    666\u001b[0m     dialect,\n\u001b[0;32m    667\u001b[0m     delimiter,\n\u001b[1;32m   (...)\u001b[0m\n\u001b[0;32m    676\u001b[0m     defaults\u001b[38;5;241m=\u001b[39m{\u001b[38;5;124m\"\u001b[39m\u001b[38;5;124mdelimiter\u001b[39m\u001b[38;5;124m\"\u001b[39m: \u001b[38;5;124m\"\u001b[39m\u001b[38;5;124m,\u001b[39m\u001b[38;5;124m\"\u001b[39m},\n\u001b[0;32m    677\u001b[0m )\n\u001b[0;32m    678\u001b[0m kwds\u001b[38;5;241m.\u001b[39mupdate(kwds_defaults)\n\u001b[1;32m--> 680\u001b[0m \u001b[38;5;28;01mreturn\u001b[39;00m \u001b[43m_read\u001b[49m\u001b[43m(\u001b[49m\u001b[43mfilepath_or_buffer\u001b[49m\u001b[43m,\u001b[49m\u001b[43m \u001b[49m\u001b[43mkwds\u001b[49m\u001b[43m)\u001b[49m\n",
      "File \u001b[1;32m~\\anaconda3\\lib\\site-packages\\pandas\\io\\parsers\\readers.py:575\u001b[0m, in \u001b[0;36m_read\u001b[1;34m(filepath_or_buffer, kwds)\u001b[0m\n\u001b[0;32m    572\u001b[0m _validate_names(kwds\u001b[38;5;241m.\u001b[39mget(\u001b[38;5;124m\"\u001b[39m\u001b[38;5;124mnames\u001b[39m\u001b[38;5;124m\"\u001b[39m, \u001b[38;5;28;01mNone\u001b[39;00m))\n\u001b[0;32m    574\u001b[0m \u001b[38;5;66;03m# Create the parser.\u001b[39;00m\n\u001b[1;32m--> 575\u001b[0m parser \u001b[38;5;241m=\u001b[39m TextFileReader(filepath_or_buffer, \u001b[38;5;241m*\u001b[39m\u001b[38;5;241m*\u001b[39mkwds)\n\u001b[0;32m    577\u001b[0m \u001b[38;5;28;01mif\u001b[39;00m chunksize \u001b[38;5;129;01mor\u001b[39;00m iterator:\n\u001b[0;32m    578\u001b[0m     \u001b[38;5;28;01mreturn\u001b[39;00m parser\n",
      "File \u001b[1;32m~\\anaconda3\\lib\\site-packages\\pandas\\io\\parsers\\readers.py:933\u001b[0m, in \u001b[0;36mTextFileReader.__init__\u001b[1;34m(self, f, engine, **kwds)\u001b[0m\n\u001b[0;32m    930\u001b[0m     \u001b[38;5;28mself\u001b[39m\u001b[38;5;241m.\u001b[39moptions[\u001b[38;5;124m\"\u001b[39m\u001b[38;5;124mhas_index_names\u001b[39m\u001b[38;5;124m\"\u001b[39m] \u001b[38;5;241m=\u001b[39m kwds[\u001b[38;5;124m\"\u001b[39m\u001b[38;5;124mhas_index_names\u001b[39m\u001b[38;5;124m\"\u001b[39m]\n\u001b[0;32m    932\u001b[0m \u001b[38;5;28mself\u001b[39m\u001b[38;5;241m.\u001b[39mhandles: IOHandles \u001b[38;5;241m|\u001b[39m \u001b[38;5;28;01mNone\u001b[39;00m \u001b[38;5;241m=\u001b[39m \u001b[38;5;28;01mNone\u001b[39;00m\n\u001b[1;32m--> 933\u001b[0m \u001b[38;5;28mself\u001b[39m\u001b[38;5;241m.\u001b[39m_engine \u001b[38;5;241m=\u001b[39m \u001b[38;5;28;43mself\u001b[39;49m\u001b[38;5;241;43m.\u001b[39;49m\u001b[43m_make_engine\u001b[49m\u001b[43m(\u001b[49m\u001b[43mf\u001b[49m\u001b[43m,\u001b[49m\u001b[43m \u001b[49m\u001b[38;5;28;43mself\u001b[39;49m\u001b[38;5;241;43m.\u001b[39;49m\u001b[43mengine\u001b[49m\u001b[43m)\u001b[49m\n",
      "File \u001b[1;32m~\\anaconda3\\lib\\site-packages\\pandas\\io\\parsers\\readers.py:1217\u001b[0m, in \u001b[0;36mTextFileReader._make_engine\u001b[1;34m(self, f, engine)\u001b[0m\n\u001b[0;32m   1213\u001b[0m     mode \u001b[38;5;241m=\u001b[39m \u001b[38;5;124m\"\u001b[39m\u001b[38;5;124mrb\u001b[39m\u001b[38;5;124m\"\u001b[39m\n\u001b[0;32m   1214\u001b[0m \u001b[38;5;66;03m# error: No overload variant of \"get_handle\" matches argument types\u001b[39;00m\n\u001b[0;32m   1215\u001b[0m \u001b[38;5;66;03m# \"Union[str, PathLike[str], ReadCsvBuffer[bytes], ReadCsvBuffer[str]]\"\u001b[39;00m\n\u001b[0;32m   1216\u001b[0m \u001b[38;5;66;03m# , \"str\", \"bool\", \"Any\", \"Any\", \"Any\", \"Any\", \"Any\"\u001b[39;00m\n\u001b[1;32m-> 1217\u001b[0m \u001b[38;5;28mself\u001b[39m\u001b[38;5;241m.\u001b[39mhandles \u001b[38;5;241m=\u001b[39m \u001b[43mget_handle\u001b[49m\u001b[43m(\u001b[49m\u001b[43m  \u001b[49m\u001b[38;5;66;43;03m# type: ignore[call-overload]\u001b[39;49;00m\n\u001b[0;32m   1218\u001b[0m \u001b[43m    \u001b[49m\u001b[43mf\u001b[49m\u001b[43m,\u001b[49m\n\u001b[0;32m   1219\u001b[0m \u001b[43m    \u001b[49m\u001b[43mmode\u001b[49m\u001b[43m,\u001b[49m\n\u001b[0;32m   1220\u001b[0m \u001b[43m    \u001b[49m\u001b[43mencoding\u001b[49m\u001b[38;5;241;43m=\u001b[39;49m\u001b[38;5;28;43mself\u001b[39;49m\u001b[38;5;241;43m.\u001b[39;49m\u001b[43moptions\u001b[49m\u001b[38;5;241;43m.\u001b[39;49m\u001b[43mget\u001b[49m\u001b[43m(\u001b[49m\u001b[38;5;124;43m\"\u001b[39;49m\u001b[38;5;124;43mencoding\u001b[39;49m\u001b[38;5;124;43m\"\u001b[39;49m\u001b[43m,\u001b[49m\u001b[43m \u001b[49m\u001b[38;5;28;43;01mNone\u001b[39;49;00m\u001b[43m)\u001b[49m\u001b[43m,\u001b[49m\n\u001b[0;32m   1221\u001b[0m \u001b[43m    \u001b[49m\u001b[43mcompression\u001b[49m\u001b[38;5;241;43m=\u001b[39;49m\u001b[38;5;28;43mself\u001b[39;49m\u001b[38;5;241;43m.\u001b[39;49m\u001b[43moptions\u001b[49m\u001b[38;5;241;43m.\u001b[39;49m\u001b[43mget\u001b[49m\u001b[43m(\u001b[49m\u001b[38;5;124;43m\"\u001b[39;49m\u001b[38;5;124;43mcompression\u001b[39;49m\u001b[38;5;124;43m\"\u001b[39;49m\u001b[43m,\u001b[49m\u001b[43m \u001b[49m\u001b[38;5;28;43;01mNone\u001b[39;49;00m\u001b[43m)\u001b[49m\u001b[43m,\u001b[49m\n\u001b[0;32m   1222\u001b[0m \u001b[43m    \u001b[49m\u001b[43mmemory_map\u001b[49m\u001b[38;5;241;43m=\u001b[39;49m\u001b[38;5;28;43mself\u001b[39;49m\u001b[38;5;241;43m.\u001b[39;49m\u001b[43moptions\u001b[49m\u001b[38;5;241;43m.\u001b[39;49m\u001b[43mget\u001b[49m\u001b[43m(\u001b[49m\u001b[38;5;124;43m\"\u001b[39;49m\u001b[38;5;124;43mmemory_map\u001b[39;49m\u001b[38;5;124;43m\"\u001b[39;49m\u001b[43m,\u001b[49m\u001b[43m \u001b[49m\u001b[38;5;28;43;01mFalse\u001b[39;49;00m\u001b[43m)\u001b[49m\u001b[43m,\u001b[49m\n\u001b[0;32m   1223\u001b[0m \u001b[43m    \u001b[49m\u001b[43mis_text\u001b[49m\u001b[38;5;241;43m=\u001b[39;49m\u001b[43mis_text\u001b[49m\u001b[43m,\u001b[49m\n\u001b[0;32m   1224\u001b[0m \u001b[43m    \u001b[49m\u001b[43merrors\u001b[49m\u001b[38;5;241;43m=\u001b[39;49m\u001b[38;5;28;43mself\u001b[39;49m\u001b[38;5;241;43m.\u001b[39;49m\u001b[43moptions\u001b[49m\u001b[38;5;241;43m.\u001b[39;49m\u001b[43mget\u001b[49m\u001b[43m(\u001b[49m\u001b[38;5;124;43m\"\u001b[39;49m\u001b[38;5;124;43mencoding_errors\u001b[39;49m\u001b[38;5;124;43m\"\u001b[39;49m\u001b[43m,\u001b[49m\u001b[43m \u001b[49m\u001b[38;5;124;43m\"\u001b[39;49m\u001b[38;5;124;43mstrict\u001b[39;49m\u001b[38;5;124;43m\"\u001b[39;49m\u001b[43m)\u001b[49m\u001b[43m,\u001b[49m\n\u001b[0;32m   1225\u001b[0m \u001b[43m    \u001b[49m\u001b[43mstorage_options\u001b[49m\u001b[38;5;241;43m=\u001b[39;49m\u001b[38;5;28;43mself\u001b[39;49m\u001b[38;5;241;43m.\u001b[39;49m\u001b[43moptions\u001b[49m\u001b[38;5;241;43m.\u001b[39;49m\u001b[43mget\u001b[49m\u001b[43m(\u001b[49m\u001b[38;5;124;43m\"\u001b[39;49m\u001b[38;5;124;43mstorage_options\u001b[39;49m\u001b[38;5;124;43m\"\u001b[39;49m\u001b[43m,\u001b[49m\u001b[43m \u001b[49m\u001b[38;5;28;43;01mNone\u001b[39;49;00m\u001b[43m)\u001b[49m\u001b[43m,\u001b[49m\n\u001b[0;32m   1226\u001b[0m \u001b[43m\u001b[49m\u001b[43m)\u001b[49m\n\u001b[0;32m   1227\u001b[0m \u001b[38;5;28;01massert\u001b[39;00m \u001b[38;5;28mself\u001b[39m\u001b[38;5;241m.\u001b[39mhandles \u001b[38;5;129;01mis\u001b[39;00m \u001b[38;5;129;01mnot\u001b[39;00m \u001b[38;5;28;01mNone\u001b[39;00m\n\u001b[0;32m   1228\u001b[0m f \u001b[38;5;241m=\u001b[39m \u001b[38;5;28mself\u001b[39m\u001b[38;5;241m.\u001b[39mhandles\u001b[38;5;241m.\u001b[39mhandle\n",
      "File \u001b[1;32m~\\anaconda3\\lib\\site-packages\\pandas\\io\\common.py:789\u001b[0m, in \u001b[0;36mget_handle\u001b[1;34m(path_or_buf, mode, encoding, compression, memory_map, is_text, errors, storage_options)\u001b[0m\n\u001b[0;32m    784\u001b[0m \u001b[38;5;28;01melif\u001b[39;00m \u001b[38;5;28misinstance\u001b[39m(handle, \u001b[38;5;28mstr\u001b[39m):\n\u001b[0;32m    785\u001b[0m     \u001b[38;5;66;03m# Check whether the filename is to be opened in binary mode.\u001b[39;00m\n\u001b[0;32m    786\u001b[0m     \u001b[38;5;66;03m# Binary mode does not support 'encoding' and 'newline'.\u001b[39;00m\n\u001b[0;32m    787\u001b[0m     \u001b[38;5;28;01mif\u001b[39;00m ioargs\u001b[38;5;241m.\u001b[39mencoding \u001b[38;5;129;01mand\u001b[39;00m \u001b[38;5;124m\"\u001b[39m\u001b[38;5;124mb\u001b[39m\u001b[38;5;124m\"\u001b[39m \u001b[38;5;129;01mnot\u001b[39;00m \u001b[38;5;129;01min\u001b[39;00m ioargs\u001b[38;5;241m.\u001b[39mmode:\n\u001b[0;32m    788\u001b[0m         \u001b[38;5;66;03m# Encoding\u001b[39;00m\n\u001b[1;32m--> 789\u001b[0m         handle \u001b[38;5;241m=\u001b[39m \u001b[38;5;28;43mopen\u001b[39;49m\u001b[43m(\u001b[49m\n\u001b[0;32m    790\u001b[0m \u001b[43m            \u001b[49m\u001b[43mhandle\u001b[49m\u001b[43m,\u001b[49m\n\u001b[0;32m    791\u001b[0m \u001b[43m            \u001b[49m\u001b[43mioargs\u001b[49m\u001b[38;5;241;43m.\u001b[39;49m\u001b[43mmode\u001b[49m\u001b[43m,\u001b[49m\n\u001b[0;32m    792\u001b[0m \u001b[43m            \u001b[49m\u001b[43mencoding\u001b[49m\u001b[38;5;241;43m=\u001b[39;49m\u001b[43mioargs\u001b[49m\u001b[38;5;241;43m.\u001b[39;49m\u001b[43mencoding\u001b[49m\u001b[43m,\u001b[49m\n\u001b[0;32m    793\u001b[0m \u001b[43m            \u001b[49m\u001b[43merrors\u001b[49m\u001b[38;5;241;43m=\u001b[39;49m\u001b[43merrors\u001b[49m\u001b[43m,\u001b[49m\n\u001b[0;32m    794\u001b[0m \u001b[43m            \u001b[49m\u001b[43mnewline\u001b[49m\u001b[38;5;241;43m=\u001b[39;49m\u001b[38;5;124;43m\"\u001b[39;49m\u001b[38;5;124;43m\"\u001b[39;49m\u001b[43m,\u001b[49m\n\u001b[0;32m    795\u001b[0m \u001b[43m        \u001b[49m\u001b[43m)\u001b[49m\n\u001b[0;32m    796\u001b[0m     \u001b[38;5;28;01melse\u001b[39;00m:\n\u001b[0;32m    797\u001b[0m         \u001b[38;5;66;03m# Binary mode\u001b[39;00m\n\u001b[0;32m    798\u001b[0m         handle \u001b[38;5;241m=\u001b[39m \u001b[38;5;28mopen\u001b[39m(handle, ioargs\u001b[38;5;241m.\u001b[39mmode)\n",
      "\u001b[1;31mFileNotFoundError\u001b[0m: [Errno 2] No such file or directory: 'application_data.csv'"
     ]
    }
   ],
   "source": [
    "pd.set_option(\"max_info_columns\",300)\n",
    "Apl_data=pd.read_csv('application_data.csv')\n",
    "# taking insight\n",
    "Apl_data.head()"
   ]
  },
  {
   "cell_type": "code",
   "execution_count": null,
   "id": "a318807a",
   "metadata": {},
   "outputs": [],
   "source": []
  },
  {
   "cell_type": "code",
   "execution_count": null,
   "id": "00dc75b7",
   "metadata": {},
   "outputs": [],
   "source": [
    "Apl_data.shape#(307511, 122)\n",
    "column1=Apl_data.columns\n",
    "Apl_data.info()"
   ]
  },
  {
   "cell_type": "code",
   "execution_count": null,
   "id": "5cd3b77c",
   "metadata": {},
   "outputs": [],
   "source": [
    "100*Apl_data.isnull().mean().sort_values(ascending=False)"
   ]
  },
  {
   "cell_type": "markdown",
   "id": "9a99560e",
   "metadata": {},
   "source": [
    "##Data have lot of missing data.. but all the Datatypes are correct so focus on Missing data further\n",
    "## 1. Handling Missing values\n",
    "\n",
    "Observations:\n",
    "\n",
    "Sοme cοlumns in the dataset have missing values(Null_Col). We are gοing tο remοve cοlumns with high missing values percentage We are cοnsidering the threashοld value as 40%.\n"
   ]
  },
  {
   "cell_type": "code",
   "execution_count": null,
   "id": "4419f176",
   "metadata": {},
   "outputs": [],
   "source": [
    "Null_Col_Drop=[columns for columns in Apl_data.columns if Apl_data[columns].isnull().mean()>0.40]\n",
    "Null_Col_Drop\n",
    "Apl_data.drop(columns=Null_Col_Drop,axis=1,inplace=True)"
   ]
  },
  {
   "cell_type": "code",
   "execution_count": null,
   "id": "37764de1",
   "metadata": {},
   "outputs": [],
   "source": [
    "100*Apl_data.isnull().mean().sort_values(ascending=False)## checking the remaining  null column"
   ]
  },
  {
   "cell_type": "code",
   "execution_count": null,
   "id": "d04d992f",
   "metadata": {},
   "outputs": [],
   "source": [
    "Null_Col=[columns for columns in Apl_data.columns if Apl_data[columns].isnull().mean()>0]\n",
    "Null_Col# col which have Null values"
   ]
  },
  {
   "cell_type": "markdown",
   "id": "e767d80d",
   "metadata": {},
   "source": [
    "## Impute the Numerical (countinous Variable) for missing values with the Median\n",
    "\n",
    "#for Numerical variable if it have outlier changing with median is good as it is least effected by Outliers\n",
    "\n",
    "##if it do not have outlier mean or median both are almost equal change with any.\n",
    "\n",
    "#so best is to change it with Median in both the cases.\n",
    "checkd this cmd and then applying for loop\n",
    "#Median_value=Apl_data['AMT_ANNUITY'].median() #Apl_data['AMT_ANNUITY']=Apl_data['AMT_ANNUITY'].fillna(Median_value)\n"
   ]
  },
  {
   "cell_type": "code",
   "execution_count": null,
   "id": "e7a9400c",
   "metadata": {},
   "outputs": [],
   "source": [
    "## IMPUTING the NA of continuous( dtype!=object ) variable with the MEDIAN\n",
    "for column in Null_Col :\n",
    "    if (Apl_data[column].dtype!=object) & (Apl_data[column].isnull().mean()*100!=0):\n",
    "        #print(column)\n",
    "        Median_value=Apl_data[column].median()\n",
    "        #print(Median_value)\n",
    "        Apl_data[column]=Apl_data[column].fillna(Median_value)      "
   ]
  },
  {
   "cell_type": "code",
   "execution_count": null,
   "id": "b3e6c13b",
   "metadata": {},
   "outputs": [],
   "source": [
    "100*Apl_data.isnull().mean().sort_values(ascending=False)## checking the remaining  null column"
   ]
  },
  {
   "cell_type": "markdown",
   "id": "4dffce92",
   "metadata": {},
   "source": [
    "## Imputing the missing value of Categorical variable "
   ]
  },
  {
   "cell_type": "code",
   "execution_count": null,
   "id": "cc052508",
   "metadata": {},
   "outputs": [],
   "source": [
    "\n",
    "#NAME_TYPE_SUITE 0.420148   Obj col## changing it with mode as too less percentage so have no such impact\n",
    "\n",
    "Apl_data.NAME_TYPE_SUITE.value_counts()##Analysisng\n",
    "#Unaccompanied      248526\n",
    "#Family              40149\n",
    "#Spouse, partner     11370\n",
    "#Children             3267\n",
    "#Other_B              1770\n",
    "#Other_A               866\n",
    "#Group of people       271 \n",
    "Mode_value=Apl_data['NAME_TYPE_SUITE'].mode()[0]\n",
    "Apl_data['NAME_TYPE_SUITE']=Apl_data['NAME_TYPE_SUITE'].fillna(Mode_value,axis=0)\n",
    "100*Apl_data.isnull().mean().sort_values(ascending=False)\n"
   ]
  },
  {
   "cell_type": "code",
   "execution_count": null,
   "id": "9000d74f",
   "metadata": {
    "scrolled": true
   },
   "outputs": [],
   "source": [
    "Apl_data['OCCUPATION_TYPE'].nunique()##18\n",
    "Apl_data['OCCUPATION_TYPE'].unique()\n",
    "#['Laborers', 'Core staff', 'Accountants', 'Managers', nan,'Drivers', 'Sales staff', 'Cleaning staff', 'Cooking staff','Private service staff', 'Medicine staff', 'Security staff','High skill tech staff', 'Waiters/barmen staff','Low-skill Laborers', 'Realty agents', 'Secretaries', 'IT staff','HR staff']\n",
    "Apl_data['OCCUPATION_TYPE'].value_counts(normalize=True)#nan value is very high 31 % so  not fill it in\n",
    "#OCCUPATION_TYPE                31.345545\n"
   ]
  },
  {
   "cell_type": "code",
   "execution_count": null,
   "id": "4d6e2b69",
   "metadata": {},
   "outputs": [],
   "source": [
    "Apl_data['OCCUPATION_TYPE'].value_counts().plot.bar()\n"
   ]
  },
  {
   "cell_type": "code",
   "execution_count": null,
   "id": "c1ffd2c6",
   "metadata": {},
   "outputs": [],
   "source": [
    "#OCCUPATION_TYPE 31.345545   Obj col## creating other category as it is an important and have \n",
    "#very high value just not deletig as it will be in mind\n",
    "Apl_data['OCCUPATION_TYPE']=Apl_data['OCCUPATION_TYPE'].fillna('Others',axis=0)\n",
    "Apl_data[Apl_data['OCCUPATION_TYPE']=='Others']\n",
    "Apl_data['OCCUPATION_TYPE'].value_counts().plot.bar()"
   ]
  },
  {
   "cell_type": "code",
   "execution_count": null,
   "id": "dc8f4d3c",
   "metadata": {},
   "outputs": [],
   "source": []
  },
  {
   "cell_type": "code",
   "execution_count": null,
   "id": "e836c4fa",
   "metadata": {},
   "outputs": [],
   "source": []
  },
  {
   "cell_type": "markdown",
   "id": "e382eecf",
   "metadata": {},
   "source": [
    "## looking for Outliers in Variable\n",
    "## Univariate Analysis:-->"
   ]
  },
  {
   "cell_type": "code",
   "execution_count": null,
   "id": "32cd0577",
   "metadata": {},
   "outputs": [],
   "source": [
    "Apl_data.nunique()\n",
    "Apl_data.columns\n",
    "#Continuous\n",
    "#These are numerical columns and may contain so many values like age, salary, height etc\n",
    "cont_var=['AMT_INCOME_TOTAL','AMT_CREDIT', 'AMT_ANNUITY', 'AMT_GOODS_PRICE',  'DAYS_BIRTH',\n",
    "       'DAYS_EMPLOYED', 'DAYS_REGISTRATION', 'DAYS_ID_PUBLISH', 'EXT_SOURCE_2', 'EXT_SOURCE_3',\n",
    "       'OBS_30_CNT_SOCIAL_CIRCLE', 'DEF_30_CNT_SOCIAL_CIRCLE',\n",
    "       'OBS_60_CNT_SOCIAL_CIRCLE', 'DEF_60_CNT_SOCIAL_CIRCLE',\n",
    "       'DAYS_LAST_PHONE_CHANGE',]\n",
    "#Categorical\n",
    "#These are columns contains categories with very few unique values like gender, type of city\n",
    "cat_var=['TARGET', 'NAME_CONTRACT_TYPE', 'CODE_GENDER','FLAG_OWN_CAR', 'FLAG_OWN_REALTY', 'CNT_CHILDREN', 'NAME_TYPE_SUITE',\n",
    "       'NAME_INCOME_TYPE', 'NAME_EDUCATION_TYPE', 'NAME_FAMILY_STATUS',\n",
    "       'NAME_HOUSING_TYPE', 'REGION_POPULATION_RELATIVE','FLAG_MOBIL',\n",
    "       'FLAG_EMP_PHONE', 'FLAG_WORK_PHONE', 'FLAG_CONT_MOBILE', 'FLAG_PHONE',\n",
    "       'FLAG_EMAIL', 'OCCUPATION_TYPE', 'CNT_FAM_MEMBERS',\n",
    "       'REGION_RATING_CLIENT', 'REGION_RATING_CLIENT_W_CITY',\n",
    "       'WEEKDAY_APPR_PROCESS_START', 'HOUR_APPR_PROCESS_START',\n",
    "       'REG_REGION_NOT_LIVE_REGION', 'REG_REGION_NOT_WORK_REGION',\n",
    "       'LIVE_REGION_NOT_WORK_REGION', 'REG_CITY_NOT_LIVE_CITY',\n",
    "       'REG_CITY_NOT_WORK_CITY', 'LIVE_CITY_NOT_WORK_CITY',\n",
    "       'ORGANIZATION_TYPE', 'FLAG_DOCUMENT_2', 'FLAG_DOCUMENT_3',\n",
    "       'FLAG_DOCUMENT_4', 'FLAG_DOCUMENT_5', 'FLAG_DOCUMENT_6',\n",
    "       'FLAG_DOCUMENT_7', 'FLAG_DOCUMENT_8', 'FLAG_DOCUMENT_9',\n",
    "       'FLAG_DOCUMENT_10', 'FLAG_DOCUMENT_11', 'FLAG_DOCUMENT_12',\n",
    "       'FLAG_DOCUMENT_13', 'FLAG_DOCUMENT_14', 'FLAG_DOCUMENT_15',\n",
    "       'FLAG_DOCUMENT_16', 'FLAG_DOCUMENT_17', 'FLAG_DOCUMENT_18',\n",
    "       'FLAG_DOCUMENT_19', 'FLAG_DOCUMENT_20', 'FLAG_DOCUMENT_21',\n",
    "       'AMT_REQ_CREDIT_BUREAU_HOUR', 'AMT_REQ_CREDIT_BUREAU_DAY',\n",
    "       'AMT_REQ_CREDIT_BUREAU_WEEK', 'AMT_REQ_CREDIT_BUREAU_MON',\n",
    "       'AMT_REQ_CREDIT_BUREAU_QRT', 'AMT_REQ_CREDIT_BUREAU_YEAR']\n",
    "ID=['SK_ID_CURR']\n",
    "##Verifying my work\n",
    "print(len(set(cont_var))+len(set(cat_var))+len(set(ID)))\n",
    "#print('Countinous Var:',cont_var)\n",
    "#print('-'*180)\n",
    "#print('Categoriacle Var:',cat_var)\n",
    "#print('-'*180)\n",
    "print(Apl_data.shape)\n"
   ]
  },
  {
   "cell_type": "markdown",
   "id": "90253450",
   "metadata": {},
   "source": [
    "## CONTINUOS VARIABLE"
   ]
  },
  {
   "cell_type": "code",
   "execution_count": null,
   "id": "20d3551f",
   "metadata": {
    "scrolled": false
   },
   "outputs": [],
   "source": [
    "## Countinous variable plotting all together a histogram  its boxplot and looking its values \n",
    "for i in cont_var:\n",
    "    plt.figure(figsize=[8,6])\n",
    "    print('*'*60)\n",
    "    print('Analysing outliers for ',i)\n",
    "    print('*'*60)\n",
    "    print(Apl_data[i].describe().apply(lambda x: format(x, 'f')))\n",
    "    print('*'*60)\n",
    "    plt.subplot(1,2,1)\n",
    "    sns.boxplot(Apl_data[i])\n",
    "    plt.subplot(1,2,2)\n",
    "    sns.histplot(Apl_data[i])\n",
    "   \n",
    "    \n",
    "    plt.show()\n",
    "    \n"
   ]
  },
  {
   "cell_type": "markdown",
   "id": "d3681f62",
   "metadata": {},
   "source": [
    "INFERENCE:-\n",
    "- AMT_ANNUITY, AMT_CREDIT, AMT_GOODS_PRICE,CNT_CHILDREN have some number of outliers.\n",
    "- AMT_INCOME_TOTAL has huge number of outliers which indicate that few of the loan applicants have high income when compared to the others.\n",
    "- DAYS_BIRTH has no outliers which means the data available is reliable.\n",
    "- DAYS_EMPLOYED,DAYS_BIRTH(DAYS_BIRTH,DAYS_EMPLOYED,having -ive value and converting in to years and take in to AGE Column.\n",
    "- DAYS_EMPLOYED has outlier values around 350000(days) which is around 958 years which is impossible and hence this has to be incorrect entry.\n",
    "- We can see the stats for these columns below as well"
   ]
  },
  {
   "cell_type": "markdown",
   "id": "4eee1ee3",
   "metadata": {},
   "source": [
    "7 Cell  for analysing the Outlier why and what can be Done on 'AMT_INCOME_TOTAL'"
   ]
  },
  {
   "cell_type": "code",
   "execution_count": null,
   "id": "fcc868bb",
   "metadata": {},
   "outputs": [],
   "source": [
    "## Variables which have outliers 'AMT_INCOME_TOTAL(very high),Income can be high\n",
    "#75%         202500.000000\n",
    "#max      117000000.000000\n",
    "#lots of optiong to look after the outlier \n",
    "#>> imputing ti median,deletting the outlier, binning the outlier, capping the outlier , IQR\n",
    "\n",
    "plt.figure(figsize=[8,6])\n",
    "print('*'*60)\n",
    "print('Analysing outliers for ','AMT_INCOME_TOTAL')\n",
    "print('*'*60)\n",
    "print(Apl_data['AMT_INCOME_TOTAL'].describe().apply(lambda x:format(x,'f')))\n",
    "print('*'*60)\n",
    "plt.subplot(1,3,1)\n",
    "sns.boxplot(Apl_data['AMT_INCOME_TOTAL'])\n",
    "plt.subplot(1,3,3)\n",
    "sns.histplot(Apl_data['AMT_INCOME_TOTAL'])\n",
    "plt.show()"
   ]
  },
  {
   "cell_type": "code",
   "execution_count": null,
   "id": "ab7b11a1",
   "metadata": {},
   "outputs": [],
   "source": [
    "## looking its different quantile\n",
    "Apl_data['AMT_INCOME_TOTAL'].quantile([0,0.5,0.75,0.90,0.95,0.99]).plot.box()\n",
    "plt.title('AMT_INCOME_TOTAL with  different Quantiles till 0.99')\n",
    "\n",
    "plt.show()\n"
   ]
  },
  {
   "cell_type": "code",
   "execution_count": null,
   "id": "c0e7cd0f",
   "metadata": {},
   "outputs": [],
   "source": [
    "##exploring where the outlier  work and there occupation\n",
    "Apl_data['NAME_INCOME_TYPE'][Apl_data['AMT_INCOME_TOTAL']> 502500.0].value_counts()\n",
    "\n",
    "#Apl_data['NAME_INCOME_TYPE'][Apl_data['YEAR_EMPLOYED']>1000].value_counts()\n"
   ]
  },
  {
   "cell_type": "code",
   "execution_count": null,
   "id": "39d24c2f",
   "metadata": {},
   "outputs": [],
   "source": [
    "x=Apl_data['NAME_INCOME_TYPE'][Apl_data['AMT_INCOME_TOTAL']> 502500.0].value_counts().index\n",
    "y=Apl_data['NAME_INCOME_TYPE'][Apl_data['AMT_INCOME_TOTAL']> 502500.0].value_counts().values\n",
    "sns.barplot(x=x,y=y)\n",
    "plt.xticks(rotation=90)\n",
    "plt.title('NAME_INCOME_TYPE Vs AMT_INCOME_TOTAL> 502500.0')\n",
    "\n",
    "plt.show()"
   ]
  },
  {
   "cell_type": "markdown",
   "id": "2edf13fe",
   "metadata": {},
   "source": [
    "INCOME TYPE IS :\n",
    "Commercial associate    1494\n",
    "Working                  836\n",
    "State servant            207\n",
    "Pensioner                159\n",
    "Businessman                5\n",
    "Student                    1\n",
    "OCCUPATION TYPE IS:\n",
    "Managers                 1193\n",
    "Others                    579\n",
    "Core staff                239\n",
    "Laborers                  155\n",
    "Accountants               140\n",
    "Sales staff               116\n",
    "High skill tech staff      98\n",
    "Drivers                    89\n",
    "Medicine staff             19\n",
    "IT staff                   19\n",
    "Private service staff      18\n",
    "Secretaries                 9\n",
    "Security staff              8\n",
    "Cleaning staff              6\n",
    "HR staff                    5\n",
    "Realty agents               4\n",
    "Cooking staff               3\n",
    "Waiters/barmen staff        2\n",
    "TARGET BSED\n",
    "0    2556\n",
    "1     146"
   ]
  },
  {
   "cell_type": "code",
   "execution_count": null,
   "id": "3cee84b4",
   "metadata": {},
   "outputs": [],
   "source": [
    "Apl_data['OCCUPATION_TYPE'][Apl_data['AMT_INCOME_TOTAL']> 502500.0].value_counts()"
   ]
  },
  {
   "cell_type": "code",
   "execution_count": null,
   "id": "ec5a4458",
   "metadata": {},
   "outputs": [],
   "source": [
    "x=Apl_data['OCCUPATION_TYPE'][Apl_data['AMT_INCOME_TOTAL']> 502500.0].value_counts().index\n",
    "y=Apl_data['OCCUPATION_TYPE'][Apl_data['AMT_INCOME_TOTAL']> 502500.0].value_counts().values\n",
    "sns.barplot(x=x,y=y)\n",
    "plt.xticks(rotation=90)\n",
    "plt.title('OCCUPATION_TYPE Vs AMT_INCOME_TOTAL> 502500.0')\n",
    "\n",
    "plt.show()"
   ]
  },
  {
   "cell_type": "code",
   "execution_count": null,
   "id": "1b096bff",
   "metadata": {
    "scrolled": false
   },
   "outputs": [],
   "source": [
    "#Looking the rate on the defaulter\n",
    "#Apl_data['TARGET'][Apl_data['AMT_INCOME_TOTAL']> 502500.0 ].value.counts()\n",
    "Apl_data['TARGET'][Apl_data['AMT_INCOME_TOTAL']> 502500.0].value_counts()\n",
    "##income is very high still they are defaulty now those are the point to be analyses further"
   ]
  },
  {
   "cell_type": "markdown",
   "id": "073f8957",
   "metadata": {},
   "source": [
    "## Showing the way how to capp but not executing it"
   ]
  },
  {
   "cell_type": "code",
   "execution_count": null,
   "id": "857451f6",
   "metadata": {},
   "outputs": [],
   "source": [
    "def Capping_Outliers(i):## one way to deal with OUTLIER is to CAP created function to capping  to IQR the outlier \n",
    "\n",
    "    q1=Apl_data[i].describe()['25%']\n",
    "    q3=Apl_data[i].describe()['75%']\n",
    "    iqr=q3-q1\n",
    "    lb=q1-1.5*iqr\n",
    "    ub=q3+1.5*iqr\n",
    "    Apl_data[i]=np.where(Apl_data[i]<lb,lb,Apl_data[i])\n",
    "    Apl_data[i]=np.where(Apl_data[i]>ub,ub,Apl_data[i])\n",
    "    return Apl_data[i]\n",
    "\n",
    "plt.figure(figsize=[15,6])\n",
    "#Capping_Outliers('AMT_INCOME_TOTAL')## removing Outlier for the purpose of analysis but will not do\n",
    "plt.subplot(1,2,1)\n",
    "Apl_data.AMT_INCOME_TOTAL.plot.box()\n",
    "#sns.boxplot(Apl_data.AMT_INCOME_TOTAL)#np.quantile(0,0.25,0.5,0.75,0.90))\n",
    "\n",
    "print(\"AFTER REMOVING THE OUTLIERS\")\n",
    "plt.subplot(1,2,2)\n",
    "plt.hist(Apl_data.AMT_INCOME_TOTAL)\n",
    "#but in the small range in the begning and from the box plot i\n",
    "plt.title(\"Frequency Distribution of \"+'AMT_INCOME_TOTAL')\n",
    "plt.show()"
   ]
  },
  {
   "cell_type": "code",
   "execution_count": null,
   "id": "10258d15",
   "metadata": {},
   "outputs": [],
   "source": []
  },
  {
   "cell_type": "markdown",
   "id": "736dfea2",
   "metadata": {},
   "source": [
    "#### DAYS_EMPLOYED,DAYS_BIRTH(DAYS_BIRTH,DAYS_EMPLOYED,having -ive value and converting in to years and take in to AGE Column and )\n",
    "\n"
   ]
  },
  {
   "cell_type": "code",
   "execution_count": null,
   "id": "afe9f838",
   "metadata": {},
   "outputs": [],
   "source": [
    "#observation :--> 1st for the days days cannot be in negative \n",
    "#and for better and easy of analysis changing it in to no of years\n",
    "#will be better\n",
    "\n",
    "Days_var=['DAYS_BIRTH','DAYS_EMPLOYED', 'DAYS_REGISTRATION', 'DAYS_ID_PUBLISH','DAYS_LAST_PHONE_CHANGE',]\n",
    "## changing to +ive\n",
    "for i in Days_var:\n",
    "    print(Apl_data[i].describe())\n",
    "    Apl_data[i]=Apl_data[i].apply(lambda x: abs(x) if x<0 else x )\n",
    "    print('After Conversion---------------------')\n",
    "    print(Apl_data[i].describe())\n"
   ]
  },
  {
   "cell_type": "code",
   "execution_count": null,
   "id": "30dc3694",
   "metadata": {},
   "outputs": [],
   "source": [
    "#chaning in to years:\n",
    "#for i in Days_var:Days_var=['DAYS_BIRTH','DAYS_EMPLOYED', 'DAYS_REGISTRATION', 'DAYS_ID_PUBLISH','DAYS_LAST_PHONE_CHANGE',]\n",
    "Apl_data['AGE']=Apl_data['DAYS_BIRTH'].apply(lambda x: x/365 )\n",
    "Apl_data['YEAR_EMPLOYED']=Apl_data['DAYS_EMPLOYED'].apply(lambda x: x/365 )##\n",
    "Apl_data['MONTH_REGISTRATION']=Apl_data['DAYS_REGISTRATION'].apply(lambda x: x/12 )\n",
    "Apl_data['MONTH_ID_PUBLISH']=Apl_data['DAYS_ID_PUBLISH'].apply(lambda x: x/12 )\n",
    "Apl_data['MONTH_LAST_PHONE_CHANGE']=Apl_data['DAYS_LAST_PHONE_CHANGE'].apply(lambda x: x/12 )\n"
   ]
  },
  {
   "cell_type": "code",
   "execution_count": null,
   "id": "c029836e",
   "metadata": {},
   "outputs": [],
   "source": [
    "#dropping Culumn after modification\n",
    "Apl_data.drop(['DAYS_BIRTH','DAYS_EMPLOYED', 'DAYS_REGISTRATION', 'DAYS_ID_PUBLISH','DAYS_LAST_PHONE_CHANGE'],axis=1,inplace=True)"
   ]
  },
  {
   "cell_type": "code",
   "execution_count": null,
   "id": "b32e86d7",
   "metadata": {},
   "outputs": [],
   "source": [
    "Apl_data.columns"
   ]
  },
  {
   "cell_type": "markdown",
   "id": "4cb49b9e",
   "metadata": {},
   "source": [
    "### making buckets for AGE columns"
   ]
  },
  {
   "cell_type": "code",
   "execution_count": null,
   "id": "02934641",
   "metadata": {},
   "outputs": [],
   "source": [
    "Apl_data.AGE.nunique()## for better analysis changing age in to categories\n",
    "Apl_data[\"AGE_GROUP\"]=pd.cut(Apl_data.AGE,[0, 30, 40, 50, 60, 9999], labels= [\"<30\",\"30-40\",\"40-50\",\"50-60\",\"60+\"])"
   ]
  },
  {
   "cell_type": "code",
   "execution_count": null,
   "id": "6f81aa68",
   "metadata": {},
   "outputs": [],
   "source": [
    "Apl_data[\"AGE_GROUP\"].value_counts()\n",
    "##it have no outliers\n"
   ]
  },
  {
   "cell_type": "code",
   "execution_count": null,
   "id": "d4f597e4",
   "metadata": {},
   "outputs": [],
   "source": [
    "Apl_data[\"AGE_GROUP\"].value_counts().plot.bar()\n",
    "plt.title(\"AGE_GROUP\")\n",
    "\n",
    "plt.show()\n",
    "## most loans are of 30-40  and 40-50 age group"
   ]
  },
  {
   "cell_type": "code",
   "execution_count": null,
   "id": "56a4a8e4",
   "metadata": {},
   "outputs": [],
   "source": [
    "Apl_data[\"AGE_GROUP\"].value_counts().plot.pie()\n",
    "plt.title(\"AGE_GROUP\")\n",
    "\n",
    "plt.show()"
   ]
  },
  {
   "cell_type": "code",
   "execution_count": null,
   "id": "a445e935",
   "metadata": {},
   "outputs": [],
   "source": [
    "Apl_data['YEAR_EMPLOYED'].value_counts()"
   ]
  },
  {
   "cell_type": "markdown",
   "id": "b56a16bd",
   "metadata": {},
   "source": [
    "#1000.665753    18%, year employed can not be 1000 so analysing it further let see where and what he work\n",
    "#it have outliers  no is to huge and cannot drop them 18% \n",
    "#Apl_data.groupby(by=['NAME_INCOME_TYPE'])['YEAR_EMPLOYED'].count()\n",
    "##\n"
   ]
  },
  {
   "cell_type": "code",
   "execution_count": null,
   "id": "3de54cc2",
   "metadata": {},
   "outputs": [],
   "source": [
    "#Let see where they work NAME_INCOME_TYPE\tClients income type (businessman, working, maternity leave,…)\n",
    "\n",
    "Apl_data['NAME_INCOME_TYPE'][Apl_data['YEAR_EMPLOYED']>1000].value_counts()"
   ]
  },
  {
   "cell_type": "code",
   "execution_count": null,
   "id": "4cdf561d",
   "metadata": {},
   "outputs": [],
   "source": []
  },
  {
   "cell_type": "code",
   "execution_count": null,
   "id": "533b5ec2",
   "metadata": {},
   "outputs": [],
   "source": [
    "Apl_data.groupby(by=['NAME_INCOME_TYPE'])['YEAR_EMPLOYED'].count()"
   ]
  },
  {
   "cell_type": "markdown",
   "id": "9814d466",
   "metadata": {},
   "source": [
    "### making buckets from EMPlOYED_GROUP columns"
   ]
  },
  {
   "cell_type": "code",
   "execution_count": null,
   "id": "014acf06",
   "metadata": {},
   "outputs": [],
   "source": [
    "Apl_data[\"YR_EMPlOYED_GROUP\"]=pd.cut(Apl_data.YEAR_EMPLOYED,[0,0.6,1,10,20,30, 9999], labels= [\"<1/2yr\",\"1yr\",\"<10yr\",\"<20yr\",\"<30yr\",\">30yr\"])\n",
    "#print(Apl_data2.pivot_table(index=['OCCUPATION_TYPE'],columns=['YEAR_EMPLOYED'],aggfunc='count'))"
   ]
  },
  {
   "cell_type": "code",
   "execution_count": null,
   "id": "71faa095",
   "metadata": {},
   "outputs": [],
   "source": [
    "Apl_data[\"YR_EMPlOYED_GROUP\"]"
   ]
  },
  {
   "cell_type": "code",
   "execution_count": null,
   "id": "eb2b0a04",
   "metadata": {},
   "outputs": [],
   "source": [
    "Apl_data[\"YR_EMPlOYED_GROUP\"].value_counts().plot.bar()\n",
    "plt.title('YR_EMPlOYED_GROUP')\n",
    "#higher client are having less than 1-5 year exp"
   ]
  },
  {
   "cell_type": "code",
   "execution_count": null,
   "id": "8c3a23eb",
   "metadata": {},
   "outputs": [],
   "source": []
  },
  {
   "cell_type": "code",
   "execution_count": null,
   "id": "a77e95eb",
   "metadata": {},
   "outputs": [],
   "source": [
    "#now the AGE and YEAR_EMPLOYED are CATEGORICAL Variable"
   ]
  },
  {
   "cell_type": "code",
   "execution_count": null,
   "id": "b01f5d42",
   "metadata": {},
   "outputs": [],
   "source": [
    "cont_var_req=['AMT_INCOME_TOTAL','AMT_CREDIT', 'AMT_ANNUITY', 'AMT_GOODS_PRICE']\n",
    "## drop  othere cont var (whcih was not required also make required -ive and yr/month changes)"
   ]
  },
  {
   "cell_type": "markdown",
   "id": "fc6018e9",
   "metadata": {},
   "source": [
    "##'AMT_CREDIT', 'AMT_ANNUITY', 'AMT_GOODS_PRICE are skewd to left side ##'AMT_INCOME_TOTAL' have high value which are outlier"
   ]
  },
  {
   "cell_type": "code",
   "execution_count": null,
   "id": "04d2130c",
   "metadata": {},
   "outputs": [],
   "source": []
  },
  {
   "cell_type": "markdown",
   "id": "4e1f79e7",
   "metadata": {},
   "source": [
    "## CATEGORICAL ANALYSIS"
   ]
  },
  {
   "cell_type": "code",
   "execution_count": null,
   "id": "be31a544",
   "metadata": {},
   "outputs": [],
   "source": [
    "for i in cat_var:\n",
    "    print(\"value_counts of \"+i)\n",
    "    print(Apl_data[i].value_counts(normalize=True))\n",
    "    print('describe of'+i)\n",
    "    print(Apl_data[i].describe())\n",
    "  "
   ]
  },
  {
   "cell_type": "code",
   "execution_count": null,
   "id": "53d6b377",
   "metadata": {},
   "outputs": [],
   "source": [
    "#plt.pie(x=Apl_data['TARGET'].value_counts(),)\n",
    "plt.figure(figsize=[6,6])\n",
    "label=Apl_data.TARGET.value_counts().index\n",
    "plt.pie(Apl_data['TARGET'].value_counts(),labels=label,autopct=\"'%1.2f'\",explode=[0.1,0.01],startangle=180)\n",
    "plt.title('Target Feature')\n",
    "plt.show()"
   ]
  },
  {
   "cell_type": "markdown",
   "id": "576720fd",
   "metadata": {},
   "source": [
    "### insight From the above graph insight \n",
    "1. Target Coulumn (Target =1) is higly imbalance \n",
    "Target variable (1 - client with payment difficulties: he/she had late payment more than X days on at least one of the first Y installments of the loan in our sample, 0 - all other cases)\n",
    "\n",
    "\n",
    "2. NAME_CONTRACT_TYPE:Identification if loan is cash or revolving\n",
    "Cash loan is very high# but have no impact so dropping from analysis\n"
   ]
  },
  {
   "cell_type": "code",
   "execution_count": null,
   "id": "9e9e2bdd",
   "metadata": {},
   "outputs": [],
   "source": [
    "#3.Code_Gender:\n",
    "plt.figure(figsize=[8,6])\n",
    "plt.title(\"Combine\")\n",
    "\n",
    "label=Apl_data.CODE_GENDER.value_counts().index\n",
    "plt.pie(Apl_data.CODE_GENDER.value_counts(),labels=label,autopct=\"'%1.2f'\")\n",
    "plt.show()\n",
    "\n",
    "\n"
   ]
  },
  {
   "cell_type": "markdown",
   "id": "593d1fe2",
   "metadata": {},
   "source": [
    "#### Code_Gender:--> Female ratio is very High more then 50% and XNA is wrongly input data which is not possible(only 4 in count so changin it to Mode value "
   ]
  },
  {
   "cell_type": "markdown",
   "id": "95555d4f",
   "metadata": {},
   "source": [
    "## Catagorical Data Analysis"
   ]
  },
  {
   "cell_type": "code",
   "execution_count": null,
   "id": "df964767",
   "metadata": {},
   "outputs": [],
   "source": [
    "#Apl_data.CODE_GENDER.value_counts(normalize=True)# as we can see the female ratio is very high ( and the xNA can be ignore so sintead  of droping it i am converting this in to females)\n",
    "#Apl_data.replace(to_replace='XNA',value=mode,inplace=True)Leaving it as it is \n",
    "Apl_data[Apl_data=='XNA'].count().sort_values(ascending=False)\n",
    "#ORGANIZATION_TYPE              55374 hve 'XNA'\n",
    "Apl_data['CODE_GENDER'].replace('XNA',np.nan,inplace=True)##so that it wont reflacte in the calculation\n",
    "\n"
   ]
  },
  {
   "cell_type": "code",
   "execution_count": null,
   "id": "c9c952b8",
   "metadata": {},
   "outputs": [],
   "source": [
    "Apl_data[Apl_data=='XNA'].count().sort_values(ascending=False)"
   ]
  },
  {
   "cell_type": "code",
   "execution_count": null,
   "id": "4a1b82c3",
   "metadata": {},
   "outputs": [],
   "source": [
    "plt.figure(figsize=[20,6])\n",
    "\n",
    "print(Apl_data['ORGANIZATION_TYPE'].value_counts(normalize=True)*100)\n",
    "\n",
    "#plt.figure(figsize=[10,10])\n",
    "\n",
    "#Apl_data.groupby(by=['TARGET'])['ORGANIZATION_TYPE'].mean().plot.bar()\n",
    "\n",
    "\n",
    "#"
   ]
  },
  {
   "cell_type": "code",
   "execution_count": null,
   "id": "38c5e8ca",
   "metadata": {},
   "outputs": [],
   "source": [
    "plt.figure(figsize=[10,10])\n",
    "Apl_data['ORGANIZATION_TYPE'].value_counts(normalize=True).plot.bar()"
   ]
  },
  {
   "cell_type": "code",
   "execution_count": null,
   "id": "5e15783c",
   "metadata": {},
   "outputs": [],
   "source": [
    "#4.CNT_CHILDREN :Number of children the client has\n",
    "print(100*Apl_data.CNT_CHILDREN.value_counts(normalize=True))\n",
    "\n",
    "Apl_data.CNT_CHILDREN.value_counts(normalize=True).plot.barh()\n",
    "#100*Apl_data2.CNT_CHILDREN.value_counts(normalize=True)\n",
    "#70% have 0 Children and 19 % 1 and 8% have 2 and so on 14 being the highest may be possible Need to analysis in Bivarient\n"
   ]
  },
  {
   "cell_type": "code",
   "execution_count": null,
   "id": "7b7da69d",
   "metadata": {},
   "outputs": [],
   "source": [
    "#NAME_TYPE_SUITE:Who was accompanying client when he was applying for the loan\n",
    "print(100*Apl_data.NAME_TYPE_SUITE.value_counts(normalize=True))\n",
    "Apl_data.NAME_TYPE_SUITE.value_counts(normalize=True).plot.barh()\n",
    "\n",
    "## one can be accopaing with anyone so dropping it from analysis perspective"
   ]
  },
  {
   "cell_type": "code",
   "execution_count": null,
   "id": "7f7ae842",
   "metadata": {},
   "outputs": [],
   "source": [
    "#NAME_INCOME_TYPE:Clients income type (businessman, working, maternity leave,…)\n",
    "print(100*Apl_data.NAME_INCOME_TYPE.value_counts(normalize=True))\n",
    "Apl_data.NAME_INCOME_TYPE.value_counts(normalize=True).plot.barh()\n",
    "\n",
    "## can have links with Days Employed\n",
    "#and Employement type as per the risk management it is one of the imp factor.\n"
   ]
  },
  {
   "cell_type": "code",
   "execution_count": null,
   "id": "0e2a816c",
   "metadata": {},
   "outputs": [],
   "source": [
    "#NAME_EDUCATION_TYPE:Clients income type (businessman, working, maternity leave,…)\n",
    "print(100*Apl_data.NAME_EDUCATION_TYPE.value_counts(normalize=True))\n",
    "Apl_data.NAME_EDUCATION_TYPE.value_counts(normalize=True).plot.barh()\n",
    "## can have links with Days Employed\n",
    "#and Education type as per the risk management it is one of the imp factor.\n"
   ]
  },
  {
   "cell_type": "code",
   "execution_count": null,
   "id": "da33e794",
   "metadata": {
    "scrolled": false
   },
   "outputs": [],
   "source": [
    "#NAME_FAMILY_STATUS#NAME_HOUSING_TYPE#OCCUPATION_TYPE#CNT_FAM_MEMBERS\n",
    "\n"
   ]
  },
  {
   "cell_type": "code",
   "execution_count": null,
   "id": "41280fa2",
   "metadata": {},
   "outputs": [],
   "source": [
    "#Flag mobile, phone and all have no impact on the target variable so droppin from analysis\n",
    "#N    0.694824Y    0.305176## target=1\n",
    "#N    0.656824Y    0.343176##target=0 same valurs\n",
    "#Region Rating_client, Region Rating_client w_city seems to have low count  high implact\n",
    "Apl_data.groupby(by=['REGION_RATING_CLIENT','TARGET'])['SK_ID_CURR'].count().plot.barh()\n",
    "\n",
    "#from the grapgh we can say the region 2 gave high default rate but it has high no of loaner who have no issue. so dropping these also from Analysis"
   ]
  },
  {
   "cell_type": "code",
   "execution_count": null,
   "id": "7a430eb7",
   "metadata": {},
   "outputs": [],
   "source": []
  },
  {
   "cell_type": "code",
   "execution_count": null,
   "id": "385a7608",
   "metadata": {},
   "outputs": [],
   "source": []
  },
  {
   "cell_type": "code",
   "execution_count": null,
   "id": "63e40ea9",
   "metadata": {},
   "outputs": [],
   "source": [
    "cat_var_req=['TARGET', 'NAME_CONTRACT_TYPE', 'CODE_GENDER','CNT_CHILDREN', 'NAME_TYPE_SUITE','AGE_GROUP',\n",
    "       \"YR_EMPlOYED_GROUP\",'NAME_INCOME_TYPE', 'NAME_EDUCATION_TYPE', 'NAME_FAMILY_STATUS','NAME_HOUSING_TYPE', 'REGION_POPULATION_RELATIVE'\n",
    "        ,'OCCUPATION_TYPE', 'CNT_FAM_MEMBERS','ORGANIZATION_TYPE','AMT_REQ_CREDIT_BUREAU_YEAR']\n",
    "#REMOVING\n",
    "#FLAG all var stat from flag,FLAG_OWN_REALTY,FLAG DOC2-12 just for the analysis purpose so far donot find any relation\n"
   ]
  },
  {
   "cell_type": "markdown",
   "id": "7cc25808",
   "metadata": {},
   "source": [
    "## Bivariate Anlysis\n",
    "\n"
   ]
  },
  {
   "cell_type": "markdown",
   "id": "bc8de972",
   "metadata": {},
   "source": [
    "#### Cont VS Cont"
   ]
  },
  {
   "cell_type": "code",
   "execution_count": null,
   "id": "4e0095e7",
   "metadata": {},
   "outputs": [],
   "source": [
    "Apl_data[cont_var_req].corr()"
   ]
  },
  {
   "cell_type": "code",
   "execution_count": null,
   "id": "7f8d6382",
   "metadata": {},
   "outputs": [],
   "source": [
    "sns.heatmap(Apl_data[cont_var_req].corr(),annot=True,cmap='Greens')\n",
    "plt.show()"
   ]
  },
  {
   "cell_type": "markdown",
   "id": "6b929fdd",
   "metadata": {},
   "source": [
    " #### AMT_CREDIT have high corelation with the AMT_GOOD_PRICE()0.99 and with Amt_ANNUITY(0.77 \n",
    "  \n",
    "  \n",
    "  ## cont_var_req=['AMT_INCOME_TOTAL','AMT_CREDIT', 'AMT_ANNUITY', 'AMT_GOODS_PRICE']"
   ]
  },
  {
   "cell_type": "code",
   "execution_count": null,
   "id": "bfc1d094",
   "metadata": {
    "scrolled": true
   },
   "outputs": [],
   "source": [
    "sns.pairplot(data=Apl_data,vars=cont_var_req)\n",
    "plt.show()"
   ]
  },
  {
   "cell_type": "markdown",
   "id": "f35c107d",
   "metadata": {},
   "source": [
    "#### CAT Vs Cont"
   ]
  },
  {
   "cell_type": "code",
   "execution_count": null,
   "id": "4ad643b3",
   "metadata": {},
   "outputs": [],
   "source": [
    "for x in cat_var_req:\n",
    "    for y in cont_var_req:\n",
    "        plt.subplot(1,2,1)\n",
    "        sns.barplot(Apl_data[x],Apl_data[y])\n",
    "        plt.xlabel(x)\n",
    "        plt.title(\"Distribution of \"+x+\" Vs \"+y)\n",
    "        plt.xticks(rotation=45)\n",
    "        plt.show()"
   ]
  },
  {
   "cell_type": "code",
   "execution_count": null,
   "id": "0a8254b8",
   "metadata": {},
   "outputs": [],
   "source": [
    "cat_var_req=['NAME_CONTRACT_TYPE', 'CODE_GENDER','CNT_CHILDREN', 'NAME_TYPE_SUITE','AGE_GROUP',\n",
    "       \"YR_EMPlOYED_GROUP\",'NAME_INCOME_TYPE', 'NAME_EDUCATION_TYPE', 'NAME_FAMILY_STATUS','NAME_HOUSING_TYPE', 'REGION_POPULATION_RELATIVE'\n",
    "        ,'OCCUPATION_TYPE', 'CNT_FAM_MEMBERS','ORGANIZATION_TYPE','FLAG_DOCUMENT_2','AMT_REQ_CREDIT_BUREAU_YEAR']"
   ]
  },
  {
   "cell_type": "markdown",
   "id": "f9641b28",
   "metadata": {},
   "source": [
    "#### TARGET VS Cont Var\n",
    "\n",
    "#cont_var_req=['AMT_INCOME_TOTAL','AMT_CREDIT', 'AMT_ANNUITY', 'AMT_GOODS_PRICE']"
   ]
  },
  {
   "cell_type": "code",
   "execution_count": null,
   "id": "a9f77281",
   "metadata": {},
   "outputs": [],
   "source": []
  },
  {
   "cell_type": "code",
   "execution_count": null,
   "id": "4a62a1f1",
   "metadata": {},
   "outputs": [],
   "source": [
    "## from univariate we  know the data is very skewed so using quentile\n",
    "for i in cont_var_req:\n",
    "    print(Apl_data.groupby(by='TARGET')[i].aggregate(['mean','median']))\n",
    "    print(i)\n",
    "   # print(Apl_data.groupby(by='TARGET')[i].median())\n"
   ]
  },
  {
   "cell_type": "markdown",
   "id": "821827b2",
   "metadata": {},
   "source": []
  },
  {
   "cell_type": "code",
   "execution_count": null,
   "id": "97406f5b",
   "metadata": {},
   "outputs": [],
   "source": [
    "for i in cont_var_req:\n",
    "    sns.boxplot(data=Apl_data,x='TARGET',y=i)\n",
    "    plt.title(\"Relationship of \"+i+\"\\n Vs \\n\"+' TARGET')\n",
    "    plt.show()"
   ]
  },
  {
   "cell_type": "code",
   "execution_count": null,
   "id": "3125c05d",
   "metadata": {},
   "outputs": [],
   "source": [
    "def q75(x):\n",
    "    return np.quantile(x,0.75)\n",
    "for i in cont_var_req:\n",
    "    print(Apl_data.groupby(by='TARGET')[i].aggregate(['mean','median',q75]))\n",
    "    Apl_data.groupby(by='TARGET')[i].aggregate(['mean','median',q75]).plot.bar()\n",
    "    plt.title(\"Relationship of \"+i+\"\\n Vs \\n\"+' TARGET')\n",
    "    plt.show()\n",
    "   # print(Apl_data.groupby(by='TARGET')[i].median())"
   ]
  },
  {
   "cell_type": "markdown",
   "id": "1a62cae6",
   "metadata": {},
   "source": [
    "#### Catvs Cat vs Target"
   ]
  },
  {
   "cell_type": "code",
   "execution_count": null,
   "id": "743db12c",
   "metadata": {},
   "outputs": [],
   "source": []
  },
  {
   "cell_type": "code",
   "execution_count": null,
   "id": "5d293271",
   "metadata": {
    "scrolled": true
   },
   "outputs": [],
   "source": [
    "\n",
    "for x in cat_var_req:\n",
    "    plt.figure(figsize=[10,8])\n",
    "    plt.subplot(1,2,1)\n",
    "    sns.countplot(data=Apl_data,x=x,hue='TARGET')\n",
    "    plt.title(x+' Vs TARGET')\n",
    "    #plt.label()\n",
    "    plt.xticks(rotation=75)\n",
    "    \n",
    "    plt.subplot(1,2,2)\n",
    "    sns.barplot(data=Apl_data,x=x,y='TARGET')\n",
    "    plt.xticks(rotation=75)\n",
    "    plt.show()"
   ]
  },
  {
   "cell_type": "markdown",
   "id": "3e68a037",
   "metadata": {},
   "source": [
    ">>Cash loan have more defaulter(0.083459) ,\n",
    "\n",
    ">>As compare to female Males are at defaluter F:0.069993 M  0.101419\n",
    "\n",
    ">>Client who have less kids are more like to repay as compare to the kids more than 2(3 : 0.096314, 4     0.128205\n",
    "\n",
    ">>As the AGE increase Client is mst like to do less faluty, client below than 30 years of age likely to do more fault\n",
    "\n",
    ">>client having less experience are more like to be at fault, as the experince increase clinet more likely to repay loan\n",
    "\n",
    ">> Client who are UNEMPLYED and Unemployed              0.363636\n",
    "Maternity leave         0.400000  ratio of them to be defaulter are very high\n",
    "\n",
    ">>as the Education level increase clients are more likely to repay loan\n",
    "\n",
    ">>Single / not married    0.098077,Civil marriage          0.099446\n",
    "\n",
    ">>Office Appartment  ppl are most likely to repay.\n",
    ">>\n",
    "Laborers                 0.105788\n",
    "Low-skill Laborers       0.171524\n",
    "Drivers                  0.113261\n",
    "Cooking staff            0.104440\n",
    "Security staff           0.107424\n",
    "Waiters/barmen staff     0.112760\n",
    ">> labour class are highre defaulter rate\n",
    "Accountants and manager are most likely to repay \n",
    ">> check for doccumnets\n",
    ">>AMT_REQ_CREDIT_BUREAU:: Higer the number of request higer the chance of client to be at Fault.\n"
   ]
  },
  {
   "cell_type": "code",
   "execution_count": null,
   "id": "b60c0480",
   "metadata": {},
   "outputs": [],
   "source": [
    "CAT vs CAT"
   ]
  },
  {
   "cell_type": "code",
   "execution_count": null,
   "id": "58a7bb8b",
   "metadata": {
    "scrolled": true
   },
   "outputs": [],
   "source": [
    "for x in cat_var_req:\n",
    "    for y in cat_var_req:\n",
    "        if x!=y:\n",
    "\n",
    "            plt.figure(figsize=[10,8])\n",
    "            plt.subplot(1,2,1)\n",
    "            sns.countplot(data=Apl_data,x=x,hue=y)\n",
    "            plt.title(x+' Vs '+y)\n",
    "            #plt.label()\n",
    "            plt.xticks(rotation=75)\n",
    "\n",
    "            plt.show()"
   ]
  },
  {
   "cell_type": "markdown",
   "id": "538956cb",
   "metadata": {},
   "source": [
    "## MULTIVARIATE PLOTS"
   ]
  },
  {
   "cell_type": "code",
   "execution_count": null,
   "id": "803af235",
   "metadata": {},
   "outputs": [],
   "source": [
    "Apl_data.pivot_table( index=['NAME_EDUCATION_TYPE'], columns=[\"NAME_INCOME_TYPE\"], values=\"TARGET\")"
   ]
  },
  {
   "cell_type": "markdown",
   "id": "e987b39d",
   "metadata": {},
   "source": [
    "for i in cat_var_req:\n",
    "    for j in cat_var_req:\n",
    "            if i != j:\n",
    "                result=Apl_data.pivot_table(index=[i], columns=[j], values=\"TARGET\")\n",
    "                sns.heatmap(data=result,annot=True,cmap='RdYlGn')"
   ]
  },
  {
   "cell_type": "code",
   "execution_count": null,
   "id": "90b03d1b",
   "metadata": {},
   "outputs": [],
   "source": []
  },
  {
   "cell_type": "code",
   "execution_count": null,
   "id": "7bb44fae",
   "metadata": {},
   "outputs": [],
   "source": [
    "result=Apl_data.pivot_table( index=['NAME_EDUCATION_TYPE'], columns=[\"NAME_INCOME_TYPE\"], values=\"TARGET\")"
   ]
  },
  {
   "cell_type": "code",
   "execution_count": null,
   "id": "8c66c46b",
   "metadata": {},
   "outputs": [],
   "source": [
    "sns.heatmap(data=result,annot=True,cmap='RdYlGn')"
   ]
  },
  {
   "cell_type": "code",
   "execution_count": null,
   "id": "e4cc423d",
   "metadata": {},
   "outputs": [],
   "source": [
    "result=Apl_data.pivot_table( index=['NAME_EDUCATION_TYPE'], columns=[\"NAME_HOUSING_TYPE\"], values=\"TARGET\")"
   ]
  },
  {
   "cell_type": "code",
   "execution_count": null,
   "id": "c942024f",
   "metadata": {},
   "outputs": [],
   "source": [
    "plt.figure(figsize=[10,6])\n",
    "sns.heatmap(data=result,cmap='RdYlGn',annot=True)\n",
    "plt.show()"
   ]
  },
  {
   "cell_type": "code",
   "execution_count": null,
   "id": "e13aac51",
   "metadata": {},
   "outputs": [],
   "source": [
    "result=Apl_data.pivot_table( index=['NAME_EDUCATION_TYPE'], columns=[\"NAME_FAMILY_STATUS\"], values=\"TARGET\")"
   ]
  },
  {
   "cell_type": "code",
   "execution_count": null,
   "id": "b237e7b5",
   "metadata": {},
   "outputs": [],
   "source": [
    "plt.figure(figsize=[10,6])\n",
    "sns.heatmap(data=result,cmap='RdYlGn',annot=True)\n",
    "plt.show()"
   ]
  },
  {
   "cell_type": "code",
   "execution_count": null,
   "id": "3fbe5317",
   "metadata": {},
   "outputs": [],
   "source": [
    "result=Apl_data.pivot_table( index=['NAME_EDUCATION_TYPE'], columns=[\"OCCUPATION_TYPE\"], values=\"TARGET\")"
   ]
  },
  {
   "cell_type": "code",
   "execution_count": null,
   "id": "4698eecf",
   "metadata": {},
   "outputs": [],
   "source": [
    "plt.figure(figsize=[10,6])\n",
    "sns.heatmap(data=result,cmap='RdYlGn',annot=True)\n",
    "plt.show()"
   ]
  },
  {
   "cell_type": "code",
   "execution_count": null,
   "id": "d1bba846",
   "metadata": {},
   "outputs": [],
   "source": [
    "result=Apl_data.pivot_table( index=['NAME_EDUCATION_TYPE'], columns=[\"AGE_GROUP\"], values=\"TARGET\")\n",
    "plt.figure(figsize=[10,6])\n",
    "sns.heatmap(data=result,cmap='RdYlGn',annot=True)\n",
    "plt.show()"
   ]
  },
  {
   "cell_type": "code",
   "execution_count": null,
   "id": "96b494da",
   "metadata": {},
   "outputs": [],
   "source": [
    "result=Apl_data.pivot_table( index=['NAME_EDUCATION_TYPE'], columns=[\"YR_EMPlOYED_GROUP\"], values=\"TARGET\")\n",
    "plt.figure(figsize=[10,6])\n",
    "sns.heatmap(data=result,cmap='RdYlGn',annot=True)\n",
    "plt.show()"
   ]
  },
  {
   "cell_type": "code",
   "execution_count": null,
   "id": "2a7d5ab8",
   "metadata": {},
   "outputs": [],
   "source": []
  },
  {
   "cell_type": "code",
   "execution_count": null,
   "id": "dc3c1b13",
   "metadata": {
    "scrolled": false
   },
   "outputs": [],
   "source": [
    "\n",
    "Res1=Apl_data.pivot_table( index=['ORGANIZATION_TYPE'], columns=[\"OCCUPATION_TYPE\"], values=\"TARGET\")"
   ]
  },
  {
   "cell_type": "code",
   "execution_count": null,
   "id": "75166b8b",
   "metadata": {},
   "outputs": [],
   "source": [
    "plt.figure(figsize=[20,20])\n",
    "sns.heatmap(data=Res1,cmap='RdYlGn',annot=True)\n",
    "plt.show()"
   ]
  },
  {
   "cell_type": "code",
   "execution_count": null,
   "id": "0473514f",
   "metadata": {},
   "outputs": [],
   "source": [
    "Apl_data.pivot_table(columns=['CODE_GENDER'], index=[\"OCCUPATION_TYPE\"], values=\"TARGET\")"
   ]
  },
  {
   "cell_type": "code",
   "execution_count": null,
   "id": "dcb62180",
   "metadata": {},
   "outputs": [],
   "source": [
    "Res3=Apl_data_updated.pivot_table( columns=['CODE_GENDER'], index=[\"OCCUPATION_TYPE\"], values=\"TARGET\")\n"
   ]
  },
  {
   "cell_type": "code",
   "execution_count": null,
   "id": "cf3249c6",
   "metadata": {},
   "outputs": [],
   "source": [
    "sns.heatmap(data=Res3,cmap='Greens',annot=True)"
   ]
  },
  {
   "cell_type": "code",
   "execution_count": null,
   "id": "65247a90",
   "metadata": {},
   "outputs": [],
   "source": [
    "\n",
    "Apl_data_updated.corr()\n",
    "Data_corr=Apl_data_updated.corr()"
   ]
  },
  {
   "cell_type": "code",
   "execution_count": null,
   "id": "8759a699",
   "metadata": {},
   "outputs": [],
   "source": [
    "sns.heatmap(data=Data_corr,cmap='Greens',annot=True)"
   ]
  },
  {
   "cell_type": "code",
   "execution_count": null,
   "id": "dea2182f",
   "metadata": {},
   "outputs": [],
   "source": [
    "\n",
    "cont_var_req=['SK_ID_CURR','AMT_INCOME_TOTAL', 'AMT_CREDIT', 'AMT_ANNUITY', 'AMT_GOODS_PRICE']\n",
    "cat_var_req=['NAME_CONTRACT_TYPE','TARGET', 'CODE_GENDER', 'CNT_CHILDREN', 'AGE_GROUP', 'YR_EMPlOYED_GROUP', 'NAME_INCOME_TYPE', 'NAME_EDUCATION_TYPE', 'NAME_FAMILY_STATUS', 'NAME_HOUSING_TYPE', 'OCCUPATION_TYPE', 'ORGANIZATION_TYPE','FLAG_DOCUMENT_2', 'AMT_REQ_CREDIT_BUREAU_YEAR']\n",
    "columns_var=cont_var_req+cat_var_req \n",
    "len(columns_var)"
   ]
  },
  {
   "cell_type": "code",
   "execution_count": null,
   "id": "1b83e0c9",
   "metadata": {},
   "outputs": [],
   "source": [
    "Apl_data_updated=Apl_data[columns_var]"
   ]
  },
  {
   "cell_type": "code",
   "execution_count": null,
   "id": "acfe44a8",
   "metadata": {},
   "outputs": [],
   "source": [
    "#sns.heatmap(Apl_data_updated,annot=True,cmap='RdYlGn')##"
   ]
  },
  {
   "cell_type": "code",
   "execution_count": null,
   "id": "b88ef591",
   "metadata": {},
   "outputs": [],
   "source": [
    "Apl_data_updated.head()"
   ]
  },
  {
   "cell_type": "code",
   "execution_count": null,
   "id": "91e2abf2",
   "metadata": {},
   "outputs": [],
   "source": [
    "Apl_data_updated.shape"
   ]
  },
  {
   "cell_type": "code",
   "execution_count": null,
   "id": "6617b98c",
   "metadata": {},
   "outputs": [],
   "source": []
  },
  {
   "cell_type": "markdown",
   "id": "4bba1fd6",
   "metadata": {},
   "source": [
    "## Analysisng second data base\n",
    "#Previous_Apllication_data contains information about the client’s previous loan data. (NameContract Status) #It contains the data on whether the previous application had been Approved, Cancelled, Refused or Unused offer.#Code_reject_Reson"
   ]
  },
  {
   "cell_type": "code",
   "execution_count": null,
   "id": "52b5a763",
   "metadata": {},
   "outputs": [],
   "source": [
    "Previous_Apl_data=pd.read_csv('previous_application.csv')\n",
    "Previous_Apl_data.shape#(1670214, 37)\n",
    "Previous_Apl_data.info()\n"
   ]
  },
  {
   "cell_type": "code",
   "execution_count": null,
   "id": "28b7cded",
   "metadata": {},
   "outputs": [],
   "source": [
    "Previous_Apl_data[Previous_Apl_data['SK_ID_CURR']==187868].head()\n",
    "## CODE_REJECT_REASON,NAME_CONTRACT_STATUS, NAME_CLIENT_TYPE,(need to observe more on this CHANNEL_TYPE)\n",
    "#as per the requierment only these i FIND use full as rest details are of  so dropping all other from the Analysing point\n"
   ]
  },
  {
   "cell_type": "code",
   "execution_count": null,
   "id": "3a33fc25",
   "metadata": {},
   "outputs": [],
   "source": [
    "Previous_Apl_data.duplicated().sum()"
   ]
  },
  {
   "cell_type": "markdown",
   "id": "e48564b3",
   "metadata": {},
   "source": [
    "## Handling Miising Data"
   ]
  },
  {
   "cell_type": "code",
   "execution_count": null,
   "id": "fac79df2",
   "metadata": {},
   "outputs": [],
   "source": [
    "100*Previous_Apl_data.isnull().mean().sort_values(ascending=False)\n",
    "## checking Null value"
   ]
  },
  {
   "cell_type": "code",
   "execution_count": null,
   "id": "6c7b18d1",
   "metadata": {},
   "outputs": [],
   "source": [
    "Null_Col=[column for column in Previous_Apl_data.columns if (100*Previous_Apl_data[column].isnull().mean()>40)]\n",
    "Null_Col"
   ]
  },
  {
   "cell_type": "markdown",
   "id": "0f444e11",
   "metadata": {},
   "source": [
    "## Dropping Null value collumn whose data more than 40%"
   ]
  },
  {
   "cell_type": "code",
   "execution_count": null,
   "id": "03be5e03",
   "metadata": {},
   "outputs": [],
   "source": [
    "Previous_Apl_data.drop(columns=Null_Col,axis=1,inplace=True)"
   ]
  },
  {
   "cell_type": "code",
   "execution_count": null,
   "id": "267847f3",
   "metadata": {},
   "outputs": [],
   "source": [
    "100*Previous_Apl_data.isnull().mean().sort_values(ascending=False)"
   ]
  },
  {
   "cell_type": "markdown",
   "id": "73d913fb",
   "metadata": {},
   "source": [
    "## IMPUTING the Remaining  MISSING Values<40 \n",
    "leaving it as it is but we can imput it with mode for categotical variable and also median in continous varaible"
   ]
  },
  {
   "cell_type": "code",
   "execution_count": null,
   "id": "257d4a2f",
   "metadata": {},
   "outputs": [],
   "source": [
    "Null_Col=[columns for columns in Previous_Apl_data.columns if Previous_Apl_data[columns].isnull().mean()>0]\n",
    "Null_Col"
   ]
  },
  {
   "cell_type": "code",
   "execution_count": null,
   "id": "36f0890b",
   "metadata": {},
   "outputs": [],
   "source": [
    "Previous_Apl_data.nunique().sort_values()"
   ]
  },
  {
   "cell_type": "code",
   "execution_count": null,
   "id": "e7d1aa24",
   "metadata": {},
   "outputs": [],
   "source": [
    "Previous_Apl_data.CNT_PAYMENT.unique()"
   ]
  },
  {
   "cell_type": "code",
   "execution_count": null,
   "id": "b5d6cc93",
   "metadata": {},
   "outputs": [],
   "source": [
    "Null_Cont_Var=['AMT_ANNUITY', 'AMT_CREDIT', 'AMT_GOODS_PRICE']\n",
    "Null_Cat_Var=['CNT_PAYMENT']"
   ]
  },
  {
   "cell_type": "code",
   "execution_count": null,
   "id": "acdfa52c",
   "metadata": {},
   "outputs": [],
   "source": [
    "## IMPUTING the NA of continuous( dtype!=object ) variable with the MEDIAN\n",
    "for column in Null_Cont_Var :\n",
    "    if (Previous_Apl_data[column].dtype!=object) & (Previous_Apl_data[column].isnull().mean()*100!=0):\n",
    "        #print(column)\n",
    "        Median_value=Previous_Apl_data[column].median()\n",
    "        #print(Median_value)\n",
    "        Previous_Apl_data[column]=Previous_Apl_data[column].fillna(Median_value)  "
   ]
  },
  {
   "cell_type": "code",
   "execution_count": null,
   "id": "62e702e8",
   "metadata": {},
   "outputs": [],
   "source": [
    "Mode_value=Previous_Apl_data['CNT_PAYMENT'].mode()[0]\n",
    "Previous_Apl_data['CNT_PAYMENT']=Previous_Apl_data['CNT_PAYMENT'].fillna(Mode_value,axis=0)"
   ]
  },
  {
   "cell_type": "code",
   "execution_count": null,
   "id": "792116d3",
   "metadata": {},
   "outputs": [],
   "source": []
  },
  {
   "cell_type": "code",
   "execution_count": null,
   "id": "52e8051b",
   "metadata": {},
   "outputs": [],
   "source": [
    "100*Previous_Apl_data.isnull().mean().sort_values(ascending=False)"
   ]
  },
  {
   "cell_type": "markdown",
   "id": "f5051094",
   "metadata": {},
   "source": [
    "## Outlier Analysis:-->Value that is beyound normal value"
   ]
  },
  {
   "cell_type": "code",
   "execution_count": null,
   "id": "d26717b5",
   "metadata": {},
   "outputs": [],
   "source": []
  },
  {
   "cell_type": "code",
   "execution_count": null,
   "id": "de90098b",
   "metadata": {},
   "outputs": [],
   "source": []
  },
  {
   "cell_type": "code",
   "execution_count": null,
   "id": "86a7edb9",
   "metadata": {},
   "outputs": [],
   "source": [
    "Prev_Cont_var=['AMT_ANNUITY','AMT_APPLICATION','AMT_CREDIT','AMT_GOODS_PRICE' ]\n",
    "\n",
    "\n",
    "Prev_Cat_var=['NAME_CONTRACT_TYPE' ,'NAME_CONTRACT_STATUS','CODE_REJECT_REASON',\n",
    "              'NAME_CLIENT_TYPE']"
   ]
  },
  {
   "cell_type": "markdown",
   "id": "57855c50",
   "metadata": {},
   "source": [
    "## Univariate Analysis on continous var for outlier ploting box plot"
   ]
  },
  {
   "cell_type": "code",
   "execution_count": null,
   "id": "56c960ab",
   "metadata": {
    "scrolled": true
   },
   "outputs": [],
   "source": [
    "\n",
    "for i in Prev_Cont_var:\n",
    "    plt.figure(figsize=[8,5])\n",
    "    print('*'*60)\n",
    "    print('Analysing outliers for ',i)\n",
    "    print('*'*60)\n",
    "    print(Previous_Apl_data[i].describe().apply(lambda x: format(x,'f')))\n",
    "    print('*'*60)\n",
    "    plt.subplot(1,2,1)\n",
    "    sns.boxplot(Previous_Apl_data[i])\n",
    "    plt.title(i)\n",
    "    plt.subplot(1,2,2)\n",
    "    sns.histplot(Previous_Apl_data[i])\n",
    "    plt.title(i)\n",
    "   \n",
    "    \n",
    "    plt.show()"
   ]
  },
  {
   "cell_type": "markdown",
   "id": "3dd7af57",
   "metadata": {},
   "source": [
    "these can have outlier i m not imputing "
   ]
  },
  {
   "cell_type": "markdown",
   "id": "f686f29c",
   "metadata": {},
   "source": [
    "## Univariate Analysis "
   ]
  },
  {
   "cell_type": "code",
   "execution_count": null,
   "id": "8f80128b",
   "metadata": {},
   "outputs": [],
   "source": [
    "\n",
    "Previous_Apl_data['SK_ID_CURR'].value_counts()\n"
   ]
  },
  {
   "cell_type": "code",
   "execution_count": null,
   "id": "3939be4d",
   "metadata": {},
   "outputs": [],
   "source": [
    "Previous_Apl_data[Previous_Apl_data['SK_ID_CURR']==187868]"
   ]
  },
  {
   "cell_type": "code",
   "execution_count": null,
   "id": "0c55942d",
   "metadata": {},
   "outputs": [],
   "source": []
  },
  {
   "cell_type": "code",
   "execution_count": null,
   "id": "722b0a61",
   "metadata": {},
   "outputs": [],
   "source": [
    "Previous_Apl_data['NAME_CONTRACT_STATUS'].value_counts(normalize=True)*100"
   ]
  },
  {
   "cell_type": "code",
   "execution_count": null,
   "id": "9741b8a7",
   "metadata": {},
   "outputs": [],
   "source": [
    "plt.figure(figsize=[10,6])\n",
    "Previous_Apl_data['NAME_CONTRACT_STATUS'].value_counts(normalize=True).plot.pie()\n",
    "plt.legend(Previous_Apl_data['NAME_CONTRACT_STATUS'].value_counts(normalize=True)*100)\n",
    "plt.show()"
   ]
  },
  {
   "cell_type": "code",
   "execution_count": null,
   "id": "e84f9825",
   "metadata": {},
   "outputs": [],
   "source": [
    "data=Previous_Apl_data['CODE_REJECT_REASON'].value_counts(normalize=True)*100\n",
    "\n",
    "#Previous_Apl_data['CODE_REJECT_REASON'].value_counts(normalize=True).plot.barh()\n",
    "data.plot.bar()\n",
    "\n",
    "print(data)\n",
    "plt.legend(data)\n",
    "plt.show()"
   ]
  },
  {
   "cell_type": "code",
   "execution_count": null,
   "id": "8a201151",
   "metadata": {},
   "outputs": [],
   "source": [
    "plt.figure(figsize=[10,6])\n",
    "x=Previous_Apl_data['CODE_REJECT_REASON'].value_counts(normalize=True).values\n",
    "label=Previous_Apl_data['CODE_REJECT_REASON'].value_counts(normalize=True).index\n",
    "plt.pie(data=data,x=x,labels=label,autopct='%1.2f')\n",
    "plt.show()"
   ]
  },
  {
   "cell_type": "markdown",
   "id": "d98ab693",
   "metadata": {},
   "source": [
    "#XAP is not null value it is the data with respect to the Aproved Client so it not applicalbe \n",
    "data\n",
    "\n",
    "reject of oam high in HC categories , and in limit catacory."
   ]
  },
  {
   "cell_type": "markdown",
   "id": "cfb31533",
   "metadata": {},
   "source": [
    "## CATEGORICAL VAR"
   ]
  },
  {
   "cell_type": "code",
   "execution_count": null,
   "id": "7d447d15",
   "metadata": {
    "scrolled": true
   },
   "outputs": [],
   "source": [
    "for i in Prev_Cat_var:\n",
    "    print(\"value_counts of \"+i)\n",
    "    print(Previous_Apl_data[i].value_counts(normalize=True))\n",
    "    Previous_Apl_data[i].value_counts(normalize=True).plot.barh()\n",
    "    print('describe of'+i)\n",
    "    print(Previous_Apl_data[i].describe())\n",
    "    print(\"value_counts of \"+i)\n",
    "    plt.show()\n",
    " \n",
    "\n",
    "                              "
   ]
  },
  {
   "cell_type": "markdown",
   "id": "4d384cad",
   "metadata": {},
   "source": [
    "## Bivariate Analysis"
   ]
  },
  {
   "cell_type": "markdown",
   "id": "bd41aba9",
   "metadata": {},
   "source": [
    "### cat vs cat NAME_CONTRACT_STATUS"
   ]
  },
  {
   "cell_type": "code",
   "execution_count": null,
   "id": "119c4d72",
   "metadata": {},
   "outputs": [],
   "source": [
    "for x in Prev_Cat_var:\n",
    "    plt.figure(figsize=[10,8])\n",
    "    plt.subplot(1,2,1)\n",
    "    sns.countplot(data=Previous_Apl_data,x=x,hue='NAME_CONTRACT_STATUS')\n",
    "    plt.title(x+' Vs NAME_CONTRACT_STATUS')\n",
    "    #plt.label()\n",
    "    plt.xticks(rotation=75)\n",
    "    plt.show()"
   ]
  },
  {
   "cell_type": "code",
   "execution_count": null,
   "id": "0cec2ebc",
   "metadata": {},
   "outputs": [],
   "source": [
    "Prev_Col=['SK_ID_CURR','NAME_CONTRACT_TYPE' ,'NAME_CONTRACT_STATUS','CODE_REJECT_REASON','NAME_CLIENT_TYPE']\n",
    "#Previous_Apl_data.columns## these i find requierd column\n",
    "\n",
    "Previous_Apl_data_updated=Previous_Apl_data[Prev_Col]"
   ]
  },
  {
   "cell_type": "code",
   "execution_count": null,
   "id": "37380b60",
   "metadata": {},
   "outputs": [],
   "source": [
    "Previous_Apl_data_updated.head()"
   ]
  },
  {
   "cell_type": "markdown",
   "id": "8acbd38b",
   "metadata": {},
   "source": [
    "## Merging both the data base"
   ]
  },
  {
   "cell_type": "code",
   "execution_count": null,
   "id": "a0566a78",
   "metadata": {},
   "outputs": [],
   "source": [
    "Apl_data_updated=pd.merge(Apl_data_updated,Previous_Apl_data_updated , on='SK_ID_CURR',how='left')"
   ]
  },
  {
   "cell_type": "code",
   "execution_count": null,
   "id": "9f5f8bd6",
   "metadata": {},
   "outputs": [],
   "source": [
    "Apl_data_updated.columns"
   ]
  },
  {
   "cell_type": "code",
   "execution_count": null,
   "id": "29a7ba31",
   "metadata": {},
   "outputs": [],
   "source": [
    "cat_var_upd=['NAME_CONTRACT_TYPE_x', 'TARGET', 'CODE_GENDER',\n",
    "       'CNT_CHILDREN', 'AGE_GROUP', 'YR_EMPlOYED_GROUP', 'NAME_INCOME_TYPE',\n",
    "       'NAME_EDUCATION_TYPE', 'NAME_FAMILY_STATUS', 'NAME_HOUSING_TYPE',\n",
    "       'OCCUPATION_TYPE', 'ORGANIZATION_TYPE', 'FLAG_DOCUMENT_2',\n",
    "       'AMT_REQ_CREDIT_BUREAU_YEAR', 'NAME_CONTRACT_TYPE_y',\n",
    "       'NAME_CONTRACT_STATUS', 'CODE_REJECT_REASON' ,'NAME_CLIENT_TYPE']\n",
    "\n",
    "cont_var_upd=['AMT_INCOME_TOTAL','AMT_CREDIT', 'AMT_ANNUITY', 'AMT_GOODS_PRICE']\n",
    "cloumn_update=cat_var_upd+cont_var_upd"
   ]
  },
  {
   "cell_type": "code",
   "execution_count": null,
   "id": "c7152554",
   "metadata": {},
   "outputs": [],
   "source": [
    "Apl_data_updated.info()"
   ]
  },
  {
   "cell_type": "code",
   "execution_count": null,
   "id": "222cbefa",
   "metadata": {},
   "outputs": [],
   "source": []
  },
  {
   "cell_type": "markdown",
   "id": "cfaf14c2",
   "metadata": {},
   "source": [
    "TARGET VS Previous DATA FRAME "
   ]
  },
  {
   "cell_type": "code",
   "execution_count": null,
   "id": "f302198c",
   "metadata": {},
   "outputs": [],
   "source": [
    "sns.barplot(data=Apl_data_updated,x='CODE_REJECT_REASON',y='TARGET')\n",
    "plt.show()"
   ]
  },
  {
   "cell_type": "markdown",
   "id": "f8fdb8d5",
   "metadata": {},
   "source": [
    "### Client whose loan got reject due to SCOFR are the highest defaulter "
   ]
  },
  {
   "cell_type": "code",
   "execution_count": null,
   "id": "f3bae669",
   "metadata": {},
   "outputs": [],
   "source": [
    "sns.barplot(data=Apl_data_updated,x='NAME_CONTRACT_STATUS',y='TARGET')"
   ]
  },
  {
   "cell_type": "markdown",
   "id": "d973a15a",
   "metadata": {},
   "source": [
    "### Client whose Loan got Refused  and canceled earlier are likely to be a defaulter "
   ]
  },
  {
   "cell_type": "code",
   "execution_count": null,
   "id": "7a244d17",
   "metadata": {},
   "outputs": [],
   "source": [
    "sns.countplot(data=Apl_data_updated,x='NAME_CLIENT_TYPE',hue='TARGET')"
   ]
  },
  {
   "cell_type": "code",
   "execution_count": null,
   "id": "6d932ca7",
   "metadata": {},
   "outputs": [],
   "source": [
    "sns.barplot(data=Apl_data_updated,x='NAME_CLIENT_TYPE',y='TARGET')\n",
    "plt.show()"
   ]
  },
  {
   "cell_type": "code",
   "execution_count": null,
   "id": "4bbfc5f4",
   "metadata": {},
   "outputs": [],
   "source": [
    "sns.countplot(data=Apl_data_updated,x='CODE_GENDER',hue='NAME_CONTRACT_STATUS')\n"
   ]
  },
  {
   "cell_type": "code",
   "execution_count": null,
   "id": "02ffef7e",
   "metadata": {},
   "outputs": [],
   "source": [
    "cat_var_upd=['NAME_CONTRACT_TYPE_x', 'TARGET', 'CODE_GENDER',\n",
    "       'CNT_CHILDREN', 'AGE_GROUP', 'YR_EMPlOYED_GROUP', 'NAME_INCOME_TYPE',\n",
    "       'NAME_EDUCATION_TYPE', 'NAME_FAMILY_STATUS', 'NAME_HOUSING_TYPE',\n",
    "       'OCCUPATION_TYPE', 'ORGANIZATION_TYPE', 'FLAG_DOCUMENT_2',\n",
    "       'AMT_REQ_CREDIT_BUREAU_YEAR', 'NAME_CONTRACT_TYPE_y',\n",
    "       'NAME_CONTRACT_STATUS', 'CODE_REJECT_REASON' ,'NAME_CLIENT_TYPE']"
   ]
  },
  {
   "cell_type": "code",
   "execution_count": null,
   "id": "97233cbb",
   "metadata": {
    "scrolled": true
   },
   "outputs": [],
   "source": [
    "#Cat Vs NAME_CONTRACT_STATUS \n",
    "\n",
    "for i in cat_var_upd:\n",
    "    sns.countplot(data=Apl_data_updated,x=i,hue='NAME_CONTRACT_STATUS')\n",
    "    plt.xticks(rotation=75)\n",
    "    plt.show()"
   ]
  },
  {
   "cell_type": "markdown",
   "id": "bbebd3e2",
   "metadata": {},
   "source": [
    "## what ever is analysd in the Application data Frame it is same i got after the merging,same approved rate are high ,\n"
   ]
  },
  {
   "cell_type": "code",
   "execution_count": null,
   "id": "114ac5af",
   "metadata": {},
   "outputs": [],
   "source": [
    "100*Apl_data_updated.isnull().mean().sort_values(ascending=False)"
   ]
  },
  {
   "cell_type": "code",
   "execution_count": null,
   "id": "1d503fe3",
   "metadata": {},
   "outputs": [],
   "source": [
    "Apl_data_updated[Apl_data_updated['NAME_CONTRACT_STATUS']!='Approved'].head()"
   ]
  },
  {
   "cell_type": "code",
   "execution_count": null,
   "id": "f54b82ce",
   "metadata": {},
   "outputs": [],
   "source": [
    "#CatvsCat\n",
    "#Target Vs NAME_CONTRACT_STATUS \n",
    "data=Apl_data_updated[Apl_data_updated['NAME_CONTRACT_STATUS']!='Approved']\n",
    "sns.countplot(data=data,x='NAME_CONTRACT_STATUS',hue='TARGET')"
   ]
  },
  {
   "cell_type": "code",
   "execution_count": null,
   "id": "3bbcaef3",
   "metadata": {},
   "outputs": [],
   "source": [
    "Apl_data_updated[Apl_data_updated['CODE_REJECT_REASON']!='XAP'].head()"
   ]
  },
  {
   "cell_type": "code",
   "execution_count": null,
   "id": "f7cfc2d9",
   "metadata": {},
   "outputs": [],
   "source": [
    "#Target Vs NAME_CONTRACT_STATUS \n",
    "data=Apl_data_updated[Apl_data_updated['CODE_REJECT_REASON']!='XAP']\n",
    "sns.countplot(data=data,x='CODE_REJECT_REASON',hue='NAME_CONTRACT_STATUS')"
   ]
  },
  {
   "cell_type": "code",
   "execution_count": null,
   "id": "51114045",
   "metadata": {},
   "outputs": [],
   "source": [
    "data=Apl_data_updated[Apl_data_updated['CODE_REJECT_REASON']!='XAP']\n",
    "sns.countplot(data=data,x='CODE_REJECT_REASON',hue='TARGET')"
   ]
  },
  {
   "cell_type": "code",
   "execution_count": null,
   "id": "28014112",
   "metadata": {},
   "outputs": [],
   "source": [
    "Apl_data_updated[cloumn_update].corr()\n",
    "Final_Res=Apl_data_updated[cloumn_update].corr()"
   ]
  },
  {
   "cell_type": "code",
   "execution_count": null,
   "id": "cc3f976b",
   "metadata": {},
   "outputs": [],
   "source": [
    "sns.heatmap(data=Final_Res,cmap='Greens')"
   ]
  },
  {
   "cell_type": "code",
   "execution_count": null,
   "id": "fb49a972",
   "metadata": {},
   "outputs": [],
   "source": []
  },
  {
   "cell_type": "code",
   "execution_count": null,
   "id": "e2cb4c3f",
   "metadata": {},
   "outputs": [],
   "source": []
  },
  {
   "cell_type": "code",
   "execution_count": null,
   "id": "6d8faf4f",
   "metadata": {},
   "outputs": [],
   "source": []
  }
 ],
 "metadata": {
  "kernelspec": {
   "display_name": "Python 3 (ipykernel)",
   "language": "python",
   "name": "python3"
  },
  "language_info": {
   "codemirror_mode": {
    "name": "ipython",
    "version": 3
   },
   "file_extension": ".py",
   "mimetype": "text/x-python",
   "name": "python",
   "nbconvert_exporter": "python",
   "pygments_lexer": "ipython3",
   "version": "3.9.12"
  }
 },
 "nbformat": 4,
 "nbformat_minor": 5
}
